{
 "cells": [
  {
   "cell_type": "code",
   "execution_count": 158,
   "id": "5d030530",
   "metadata": {},
   "outputs": [],
   "source": [
    "import pandas as pd"
   ]
  },
  {
   "cell_type": "code",
   "execution_count": 159,
   "id": "02d92ed2",
   "metadata": {},
   "outputs": [],
   "source": [
    "data=pd.DataFrame()"
   ]
  },
  {
   "cell_type": "markdown",
   "id": "6459e880",
   "metadata": {},
   "source": [
    "Рассмотрим данные по потреблению первичной электроэнергии от солнечной энергии в период между экономическими ризисами с 2010 до 2020"
   ]
  },
  {
   "cell_type": "markdown",
   "id": "f6098f99",
   "metadata": {},
   "source": [
    "[https://ourworldindata.org/](https://ourworldindata.org/grapher/primary-energy-consumption-from-solar?tab=chart&time=2010..2020&country=~USA)"
   ]
  },
  {
   "cell_type": "code",
   "execution_count": 160,
   "id": "caaaba45",
   "metadata": {},
   "outputs": [
    {
     "data": {
      "text/html": [
       "<div>\n",
       "<style scoped>\n",
       "    .dataframe tbody tr th:only-of-type {\n",
       "        vertical-align: middle;\n",
       "    }\n",
       "\n",
       "    .dataframe tbody tr th {\n",
       "        vertical-align: top;\n",
       "    }\n",
       "\n",
       "    .dataframe thead th {\n",
       "        text-align: right;\n",
       "    }\n",
       "</style>\n",
       "<table border=\"1\" class=\"dataframe\">\n",
       "  <thead>\n",
       "    <tr style=\"text-align: right;\">\n",
       "      <th></th>\n",
       "      <th>Entity</th>\n",
       "      <th>Code</th>\n",
       "      <th>Year</th>\n",
       "      <th>Solar (TWh - equivalent)</th>\n",
       "    </tr>\n",
       "  </thead>\n",
       "  <tbody>\n",
       "    <tr>\n",
       "      <th>0</th>\n",
       "      <td>Africa</td>\n",
       "      <td>NaN</td>\n",
       "      <td>1971</td>\n",
       "      <td>0.0000</td>\n",
       "    </tr>\n",
       "    <tr>\n",
       "      <th>1</th>\n",
       "      <td>Africa</td>\n",
       "      <td>NaN</td>\n",
       "      <td>1972</td>\n",
       "      <td>0.0000</td>\n",
       "    </tr>\n",
       "    <tr>\n",
       "      <th>2</th>\n",
       "      <td>Africa</td>\n",
       "      <td>NaN</td>\n",
       "      <td>1973</td>\n",
       "      <td>0.0000</td>\n",
       "    </tr>\n",
       "    <tr>\n",
       "      <th>3</th>\n",
       "      <td>Africa</td>\n",
       "      <td>NaN</td>\n",
       "      <td>1974</td>\n",
       "      <td>0.0000</td>\n",
       "    </tr>\n",
       "    <tr>\n",
       "      <th>4</th>\n",
       "      <td>Africa</td>\n",
       "      <td>NaN</td>\n",
       "      <td>1975</td>\n",
       "      <td>0.0000</td>\n",
       "    </tr>\n",
       "    <tr>\n",
       "      <th>...</th>\n",
       "      <td>...</td>\n",
       "      <td>...</td>\n",
       "      <td>...</td>\n",
       "      <td>...</td>\n",
       "    </tr>\n",
       "    <tr>\n",
       "      <th>5437</th>\n",
       "      <td>World</td>\n",
       "      <td>OWID_WRL</td>\n",
       "      <td>2017</td>\n",
       "      <td>1185.5150</td>\n",
       "    </tr>\n",
       "    <tr>\n",
       "      <th>5438</th>\n",
       "      <td>World</td>\n",
       "      <td>OWID_WRL</td>\n",
       "      <td>2018</td>\n",
       "      <td>1524.5497</td>\n",
       "    </tr>\n",
       "    <tr>\n",
       "      <th>5439</th>\n",
       "      <td>World</td>\n",
       "      <td>OWID_WRL</td>\n",
       "      <td>2019</td>\n",
       "      <td>1855.5922</td>\n",
       "    </tr>\n",
       "    <tr>\n",
       "      <th>5440</th>\n",
       "      <td>World</td>\n",
       "      <td>OWID_WRL</td>\n",
       "      <td>2020</td>\n",
       "      <td>2222.4430</td>\n",
       "    </tr>\n",
       "    <tr>\n",
       "      <th>5441</th>\n",
       "      <td>World</td>\n",
       "      <td>OWID_WRL</td>\n",
       "      <td>2021</td>\n",
       "      <td>2701.7222</td>\n",
       "    </tr>\n",
       "  </tbody>\n",
       "</table>\n",
       "<p>5442 rows × 4 columns</p>\n",
       "</div>"
      ],
      "text/plain": [
       "      Entity      Code  Year  Solar (TWh - equivalent)\n",
       "0     Africa       NaN  1971                    0.0000\n",
       "1     Africa       NaN  1972                    0.0000\n",
       "2     Africa       NaN  1973                    0.0000\n",
       "3     Africa       NaN  1974                    0.0000\n",
       "4     Africa       NaN  1975                    0.0000\n",
       "...      ...       ...   ...                       ...\n",
       "5437   World  OWID_WRL  2017                 1185.5150\n",
       "5438   World  OWID_WRL  2018                 1524.5497\n",
       "5439   World  OWID_WRL  2019                 1855.5922\n",
       "5440   World  OWID_WRL  2020                 2222.4430\n",
       "5441   World  OWID_WRL  2021                 2701.7222\n",
       "\n",
       "[5442 rows x 4 columns]"
      ]
     },
     "execution_count": 160,
     "metadata": {},
     "output_type": "execute_result"
    }
   ],
   "source": [
    "primary_en=pd.read_csv('primary-energy-consumption-from-solar.csv')\n",
    "primary_en"
   ]
  },
  {
   "cell_type": "code",
   "execution_count": 161,
   "id": "466f7892",
   "metadata": {},
   "outputs": [
    {
     "data": {
      "text/html": [
       "<div>\n",
       "<style scoped>\n",
       "    .dataframe tbody tr th:only-of-type {\n",
       "        vertical-align: middle;\n",
       "    }\n",
       "\n",
       "    .dataframe tbody tr th {\n",
       "        vertical-align: top;\n",
       "    }\n",
       "\n",
       "    .dataframe thead th {\n",
       "        text-align: right;\n",
       "    }\n",
       "</style>\n",
       "<table border=\"1\" class=\"dataframe\">\n",
       "  <thead>\n",
       "    <tr style=\"text-align: right;\">\n",
       "      <th></th>\n",
       "      <th>Entity</th>\n",
       "      <th>Code</th>\n",
       "      <th>Year</th>\n",
       "      <th>Solar (TWh - equivalent)</th>\n",
       "    </tr>\n",
       "  </thead>\n",
       "  <tbody>\n",
       "    <tr>\n",
       "      <th>5119</th>\n",
       "      <td>United States</td>\n",
       "      <td>USA</td>\n",
       "      <td>2010</td>\n",
       "      <td>8.362920</td>\n",
       "    </tr>\n",
       "    <tr>\n",
       "      <th>5120</th>\n",
       "      <td>United States</td>\n",
       "      <td>USA</td>\n",
       "      <td>2011</td>\n",
       "      <td>13.073000</td>\n",
       "    </tr>\n",
       "    <tr>\n",
       "      <th>5121</th>\n",
       "      <td>United States</td>\n",
       "      <td>USA</td>\n",
       "      <td>2012</td>\n",
       "      <td>24.778908</td>\n",
       "    </tr>\n",
       "    <tr>\n",
       "      <th>5122</th>\n",
       "      <td>United States</td>\n",
       "      <td>USA</td>\n",
       "      <td>2013</td>\n",
       "      <td>43.714870</td>\n",
       "    </tr>\n",
       "    <tr>\n",
       "      <th>5123</th>\n",
       "      <td>United States</td>\n",
       "      <td>USA</td>\n",
       "      <td>2014</td>\n",
       "      <td>79.149445</td>\n",
       "    </tr>\n",
       "    <tr>\n",
       "      <th>5124</th>\n",
       "      <td>United States</td>\n",
       "      <td>USA</td>\n",
       "      <td>2015</td>\n",
       "      <td>106.173836</td>\n",
       "    </tr>\n",
       "    <tr>\n",
       "      <th>5125</th>\n",
       "      <td>United States</td>\n",
       "      <td>USA</td>\n",
       "      <td>2016</td>\n",
       "      <td>148.361970</td>\n",
       "    </tr>\n",
       "    <tr>\n",
       "      <th>5126</th>\n",
       "      <td>United States</td>\n",
       "      <td>USA</td>\n",
       "      <td>2017</td>\n",
       "      <td>207.733870</td>\n",
       "    </tr>\n",
       "    <tr>\n",
       "      <th>5127</th>\n",
       "      <td>United States</td>\n",
       "      <td>USA</td>\n",
       "      <td>2018</td>\n",
       "      <td>249.513440</td>\n",
       "    </tr>\n",
       "    <tr>\n",
       "      <th>5128</th>\n",
       "      <td>United States</td>\n",
       "      <td>USA</td>\n",
       "      <td>2019</td>\n",
       "      <td>284.615780</td>\n",
       "    </tr>\n",
       "    <tr>\n",
       "      <th>5129</th>\n",
       "      <td>United States</td>\n",
       "      <td>USA</td>\n",
       "      <td>2020</td>\n",
       "      <td>346.778930</td>\n",
       "    </tr>\n",
       "  </tbody>\n",
       "</table>\n",
       "</div>"
      ],
      "text/plain": [
       "             Entity Code  Year  Solar (TWh - equivalent)\n",
       "5119  United States  USA  2010                  8.362920\n",
       "5120  United States  USA  2011                 13.073000\n",
       "5121  United States  USA  2012                 24.778908\n",
       "5122  United States  USA  2013                 43.714870\n",
       "5123  United States  USA  2014                 79.149445\n",
       "5124  United States  USA  2015                106.173836\n",
       "5125  United States  USA  2016                148.361970\n",
       "5126  United States  USA  2017                207.733870\n",
       "5127  United States  USA  2018                249.513440\n",
       "5128  United States  USA  2019                284.615780\n",
       "5129  United States  USA  2020                346.778930"
      ]
     },
     "execution_count": 161,
     "metadata": {},
     "output_type": "execute_result"
    }
   ],
   "source": [
    "primary_en=primary_en[(primary_en.Entity=='United States') & (primary_en.Year>2009) & (primary_en.Year<2021)]\n",
    "primary_en"
   ]
  },
  {
   "cell_type": "code",
   "execution_count": 162,
   "id": "b0f830db",
   "metadata": {},
   "outputs": [],
   "source": [
    "y=primary_en['Solar (TWh - equivalent)']"
   ]
  },
  {
   "cell_type": "markdown",
   "id": "e5c354ca",
   "metadata": {},
   "source": [
    "Список всех ETF фондов на солнечную энергетику (в чистом виде):\n",
    "- Invesco Solar ETF\t тикер [TAN](https://www.investing.com/etfs/claymore-mac-global-solar-energy-in-historical-data)\n",
    "- iShares MSCI Kuwait ETF\t[KWT](https://www.marketwatch.com/investing/fund/kwt/download-data?startDate=1/1/2009&endDate=12/31/2019)\n",
    "\n",
    "KWT - нам не подойдет для анализа (данные с середины 2020 года)"
   ]
  },
  {
   "cell_type": "code",
   "execution_count": 163,
   "id": "07a64ce8",
   "metadata": {},
   "outputs": [
    {
     "data": {
      "text/html": [
       "<div>\n",
       "<style scoped>\n",
       "    .dataframe tbody tr th:only-of-type {\n",
       "        vertical-align: middle;\n",
       "    }\n",
       "\n",
       "    .dataframe tbody tr th {\n",
       "        vertical-align: top;\n",
       "    }\n",
       "\n",
       "    .dataframe thead th {\n",
       "        text-align: right;\n",
       "    }\n",
       "</style>\n",
       "<table border=\"1\" class=\"dataframe\">\n",
       "  <thead>\n",
       "    <tr style=\"text-align: right;\">\n",
       "      <th></th>\n",
       "      <th>Price</th>\n",
       "    </tr>\n",
       "    <tr>\n",
       "      <th>Date</th>\n",
       "      <th></th>\n",
       "    </tr>\n",
       "  </thead>\n",
       "  <tbody>\n",
       "    <tr>\n",
       "      <th>2009</th>\n",
       "      <td>86.038333</td>\n",
       "    </tr>\n",
       "    <tr>\n",
       "      <th>2010</th>\n",
       "      <td>77.266667</td>\n",
       "    </tr>\n",
       "    <tr>\n",
       "      <th>2011</th>\n",
       "      <td>60.441667</td>\n",
       "    </tr>\n",
       "    <tr>\n",
       "      <th>2012</th>\n",
       "      <td>19.629167</td>\n",
       "    </tr>\n",
       "    <tr>\n",
       "      <th>2013</th>\n",
       "      <td>26.767500</td>\n",
       "    </tr>\n",
       "    <tr>\n",
       "      <th>2014</th>\n",
       "      <td>40.676667</td>\n",
       "    </tr>\n",
       "    <tr>\n",
       "      <th>2015</th>\n",
       "      <td>35.406667</td>\n",
       "    </tr>\n",
       "    <tr>\n",
       "      <th>2016</th>\n",
       "      <td>21.162500</td>\n",
       "    </tr>\n",
       "    <tr>\n",
       "      <th>2017</th>\n",
       "      <td>20.658333</td>\n",
       "    </tr>\n",
       "    <tr>\n",
       "      <th>2018</th>\n",
       "      <td>22.540833</td>\n",
       "    </tr>\n",
       "    <tr>\n",
       "      <th>2019</th>\n",
       "      <td>27.225833</td>\n",
       "    </tr>\n",
       "  </tbody>\n",
       "</table>\n",
       "</div>"
      ],
      "text/plain": [
       "          Price\n",
       "Date           \n",
       "2009  86.038333\n",
       "2010  77.266667\n",
       "2011  60.441667\n",
       "2012  19.629167\n",
       "2013  26.767500\n",
       "2014  40.676667\n",
       "2015  35.406667\n",
       "2016  21.162500\n",
       "2017  20.658333\n",
       "2018  22.540833\n",
       "2019  27.225833"
      ]
     },
     "execution_count": 163,
     "metadata": {},
     "output_type": "execute_result"
    }
   ],
   "source": [
    "TAN=pd.read_csv('TAN Historical Data.csv')\n",
    "TAN.Date=pd.to_datetime(TAN.Date).dt.year\n",
    "agg_func_count = {'Price': 'mean'}\n",
    "TAN=TAN.groupby(['Date']).agg(agg_func_count)\n",
    "TAN"
   ]
  },
  {
   "cell_type": "code",
   "execution_count": 164,
   "id": "c7e3a5a4",
   "metadata": {},
   "outputs": [],
   "source": [
    "data['TAN']=list(TAN.Price)\n",
    "data.index=TAN.index"
   ]
  },
  {
   "cell_type": "markdown",
   "id": "54ee189b",
   "metadata": {},
   "source": [
    "Список ETF инвестирующих в солнечную энергетику (смешанный тип):\n",
    "- iShares Global Clean Energy ETF [ICLN](https://www.investing.com/etfs/ishares-s-p-global-clean-energy-historical-data)\n",
    "- SPDR S&P Kensho Clean Power ETF [CNRG](https://www.investing.com/etfs/cnrg-historical-data) (не подойдет данные с конца 2018)\n",
    "- Invesco Global Clean Energy ETF [PBD](https://www.investing.com/etfs/powershares---global-clean-energy-historical-data)\n",
    "- Global X CleanTech ETF [CTEC](https://www.investing.com/etfs/ctec) (не подойдет данные с конца 2020)\n",
    "- First Trust NASDAQ Clean Edge Green Energy Index Fund [QCLN](https://www.investing.com/etfs/firsttr.-nq-clean-edge-green-en.-historical-data)\n",
    "- ALPS Clean Energy ETF [ACES](https://www.investing.com/etfs/alps-clean-energy) (не подойдет данные с конца 2018)\n",
    "\n"
   ]
  },
  {
   "cell_type": "code",
   "execution_count": 165,
   "id": "cb039992",
   "metadata": {},
   "outputs": [],
   "source": [
    "list_a_file=['ICLN Historical Data.csv', 'PBD Historical Data.csv', 'QCLN Historical Data.csv']\n",
    "list_a_name=['ICLN', 'PBD', 'QCLN']"
   ]
  },
  {
   "cell_type": "code",
   "execution_count": 166,
   "id": "cd560bc3",
   "metadata": {},
   "outputs": [],
   "source": [
    "for name, file in zip(list_a_name, list_a_file):\n",
    "    df=pd.read_csv(file)\n",
    "    df.Date=pd.to_datetime(df.Date).dt.year\n",
    "    agg_func_count = {'Price': 'mean'}\n",
    "    df=df.groupby(['Date']).agg(agg_func_count)\n",
    "    data[name]=df.Price"
   ]
  },
  {
   "cell_type": "code",
   "execution_count": 167,
   "id": "f6869d74",
   "metadata": {},
   "outputs": [
    {
     "data": {
      "text/html": [
       "<div>\n",
       "<style scoped>\n",
       "    .dataframe tbody tr th:only-of-type {\n",
       "        vertical-align: middle;\n",
       "    }\n",
       "\n",
       "    .dataframe tbody tr th {\n",
       "        vertical-align: top;\n",
       "    }\n",
       "\n",
       "    .dataframe thead th {\n",
       "        text-align: right;\n",
       "    }\n",
       "</style>\n",
       "<table border=\"1\" class=\"dataframe\">\n",
       "  <thead>\n",
       "    <tr style=\"text-align: right;\">\n",
       "      <th></th>\n",
       "      <th>TAN</th>\n",
       "      <th>ICLN</th>\n",
       "      <th>PBD</th>\n",
       "      <th>QCLN</th>\n",
       "    </tr>\n",
       "    <tr>\n",
       "      <th>Date</th>\n",
       "      <th></th>\n",
       "      <th></th>\n",
       "      <th></th>\n",
       "      <th></th>\n",
       "    </tr>\n",
       "  </thead>\n",
       "  <tbody>\n",
       "    <tr>\n",
       "      <th>2009</th>\n",
       "      <td>86.038333</td>\n",
       "      <td>21.045833</td>\n",
       "      <td>14.253968</td>\n",
       "      <td>13.254841</td>\n",
       "    </tr>\n",
       "    <tr>\n",
       "      <th>2010</th>\n",
       "      <td>77.266667</td>\n",
       "      <td>16.740833</td>\n",
       "      <td>13.902659</td>\n",
       "      <td>15.111474</td>\n",
       "    </tr>\n",
       "    <tr>\n",
       "      <th>2011</th>\n",
       "      <td>60.441667</td>\n",
       "      <td>14.078333</td>\n",
       "      <td>12.296667</td>\n",
       "      <td>13.888845</td>\n",
       "    </tr>\n",
       "    <tr>\n",
       "      <th>2012</th>\n",
       "      <td>19.629167</td>\n",
       "      <td>7.578333</td>\n",
       "      <td>7.973520</td>\n",
       "      <td>9.568153</td>\n",
       "    </tr>\n",
       "    <tr>\n",
       "      <th>2013</th>\n",
       "      <td>26.767500</td>\n",
       "      <td>9.024167</td>\n",
       "      <td>10.164881</td>\n",
       "      <td>14.071667</td>\n",
       "    </tr>\n",
       "    <tr>\n",
       "      <th>2014</th>\n",
       "      <td>40.676667</td>\n",
       "      <td>10.885000</td>\n",
       "      <td>12.970079</td>\n",
       "      <td>19.045714</td>\n",
       "    </tr>\n",
       "    <tr>\n",
       "      <th>2015</th>\n",
       "      <td>35.406667</td>\n",
       "      <td>10.549167</td>\n",
       "      <td>12.011706</td>\n",
       "      <td>17.044603</td>\n",
       "    </tr>\n",
       "    <tr>\n",
       "      <th>2016</th>\n",
       "      <td>21.162500</td>\n",
       "      <td>8.781667</td>\n",
       "      <td>10.622857</td>\n",
       "      <td>14.695476</td>\n",
       "    </tr>\n",
       "    <tr>\n",
       "      <th>2017</th>\n",
       "      <td>20.658333</td>\n",
       "      <td>8.819167</td>\n",
       "      <td>11.905697</td>\n",
       "      <td>18.102709</td>\n",
       "    </tr>\n",
       "    <tr>\n",
       "      <th>2018</th>\n",
       "      <td>22.540833</td>\n",
       "      <td>9.044167</td>\n",
       "      <td>12.239761</td>\n",
       "      <td>19.744303</td>\n",
       "    </tr>\n",
       "    <tr>\n",
       "      <th>2019</th>\n",
       "      <td>27.225833</td>\n",
       "      <td>10.471667</td>\n",
       "      <td>12.335159</td>\n",
       "      <td>21.127421</td>\n",
       "    </tr>\n",
       "  </tbody>\n",
       "</table>\n",
       "</div>"
      ],
      "text/plain": [
       "            TAN       ICLN        PBD       QCLN\n",
       "Date                                            \n",
       "2009  86.038333  21.045833  14.253968  13.254841\n",
       "2010  77.266667  16.740833  13.902659  15.111474\n",
       "2011  60.441667  14.078333  12.296667  13.888845\n",
       "2012  19.629167   7.578333   7.973520   9.568153\n",
       "2013  26.767500   9.024167  10.164881  14.071667\n",
       "2014  40.676667  10.885000  12.970079  19.045714\n",
       "2015  35.406667  10.549167  12.011706  17.044603\n",
       "2016  21.162500   8.781667  10.622857  14.695476\n",
       "2017  20.658333   8.819167  11.905697  18.102709\n",
       "2018  22.540833   9.044167  12.239761  19.744303\n",
       "2019  27.225833  10.471667  12.335159  21.127421"
      ]
     },
     "execution_count": 167,
     "metadata": {},
     "output_type": "execute_result"
    }
   ],
   "source": [
    "data"
   ]
  },
  {
   "cell_type": "markdown",
   "id": "e9c0bd8e",
   "metadata": {},
   "source": [
    "Основные индексы американского рынка:\n",
    "   - US 30\n",
    "   - US 500\n",
    "   - Dow Jones\n",
    "   - S&P 500\n",
    "   - Nasdaq\n",
    "   - S&P 500 VIX\n",
    "   - Dollar Index\n",
    "   \n",
    " (Данные взяты с https://www.investing.com/)"
   ]
  },
  {
   "cell_type": "code",
   "execution_count": 168,
   "id": "1c77968d",
   "metadata": {},
   "outputs": [],
   "source": [
    "list_b_file=['US 30 Cash Historical Data.csv', 'US 500 Cash Historical Data.csv', \n",
    "             'Dow Jones Industrial Average Historical Data.csv', 'NASDAQ Composite Historical Data.csv', \n",
    "              'CBOE Volatility Index Historical Data.csv', 'US Dollar Index Futures Historical Data.csv',\n",
    "             \n",
    "       ]\n",
    "list_b_name=['US_30', 'US_500', 'Dow_Jones', 'NASDAQ', 'VIX', 'Dollar_Ind']\n"
   ]
  },
  {
   "cell_type": "code",
   "execution_count": 169,
   "id": "d8daeb12",
   "metadata": {},
   "outputs": [],
   "source": [
    "for name, file in zip(list_b_name, list_b_file):\n",
    "    df=pd.read_csv(file)\n",
    "    df.Date=pd.to_datetime(df.Date).dt.year\n",
    "    df.Price=df.Price.apply(convert_num)\n",
    "    agg_func_count = {'Price': 'mean'}\n",
    "    df=df.groupby(['Date']).agg(agg_func_count)\n",
    "    data[name]=df.Price"
   ]
  },
  {
   "cell_type": "markdown",
   "id": "e6f03c15",
   "metadata": {},
   "source": [
    "Основные товары американского рынка:\n",
    "   - Crude Oil WTI \n",
    "   - Natural Gas\n",
    "   - GOLD\n",
    "   - Silver\n",
    "   - Copper\n",
    "   - Carbon\n",
    "\n",
    "   \n",
    " (Данные взяты с https://www.investing.com/)"
   ]
  },
  {
   "cell_type": "code",
   "execution_count": 170,
   "id": "22d33a20",
   "metadata": {},
   "outputs": [],
   "source": [
    "list_c_file=['Crude Oil WTI Futures Historical Data.csv', 'Natural Gas Futures Historical Data.csv', \n",
    "             'Gold Futures Historical Data.csv', 'Silver Futures Historical Data.csv', \n",
    "              'Copper Futures Historical Data.csv', 'Carbon Emissions Futures Historical Data.csv',\n",
    "             \n",
    "       ]\n",
    "list_c_name=['WTI', 'GAZ', 'GOLD', 'Silver', 'Copper', 'Carbon']\n"
   ]
  },
  {
   "cell_type": "code",
   "execution_count": 171,
   "id": "e89a69d4",
   "metadata": {},
   "outputs": [],
   "source": [
    "for name, file in zip(list_c_name, list_c_file):\n",
    "    df=pd.read_csv(file)\n",
    "    df.Date=pd.to_datetime(df.Date).dt.year\n",
    "    df.Price=df.Price.apply(convert_num)\n",
    "    agg_func_count = {'Price': 'mean'}\n",
    "    df=df.groupby(['Date']).agg(agg_func_count)\n",
    "    data[name]=df.Price"
   ]
  },
  {
   "cell_type": "code",
   "execution_count": 172,
   "id": "00f04908",
   "metadata": {},
   "outputs": [],
   "source": [
    "data['coal']=[61.75, 93.85, 130.95, 117.45, 95.20, 82.35, 82.45, 48.8, 83, 104.35, 99.6]"
   ]
  },
  {
   "cell_type": "code",
   "execution_count": 184,
   "id": "f6c1f7f7",
   "metadata": {},
   "outputs": [],
   "source": [
    "data['Solar']=list(y)"
   ]
  },
  {
   "cell_type": "code",
   "execution_count": 229,
   "id": "8f049311",
   "metadata": {},
   "outputs": [],
   "source": [
    "data.to_csv('data.csv')"
   ]
  },
  {
   "cell_type": "code",
   "execution_count": 9,
   "id": "ab5e4d9b",
   "metadata": {},
   "outputs": [],
   "source": [
    "data=pd.read_csv('data.csv')"
   ]
  },
  {
   "cell_type": "code",
   "execution_count": 10,
   "id": "62f24ddb",
   "metadata": {},
   "outputs": [
    {
     "data": {
      "text/plain": [
       "<AxesSubplot:>"
      ]
     },
     "execution_count": 10,
     "metadata": {},
     "output_type": "execute_result"
    },
    {
     "data": {
      "image/png": "[encoded data removed]",
      "text/plain": [
       "<Figure size 1200x1000 with 2 Axes>"
      ]
     },
     "metadata": {},
     "output_type": "display_data"
    }
   ],
   "source": [
    "import seaborn as sns\n",
    "import matplotlib.pyplot as plt\n",
    "plt.figure(figsize=(12, 10))\n",
    "sns.heatmap(pd.DataFrame.from_records(data).corr())"
   ]
  },
  {
   "cell_type": "code",
   "execution_count": 19,
   "id": "1bfaa1cd",
   "metadata": {},
   "outputs": [],
   "source": [
    "from sklearn.pipeline import make_pipeline\n",
    "from sklearn.preprocessing import StandardScaler\n",
    "from sklearn.linear_model import Ridge, Lasso\n",
    "from sklearn.metrics import mean_squared_error, mean_absolute_error, mean_absolute_percentage_error, r2_score\n",
    "from sklearn.linear_model import LinearRegression"
   ]
  },
  {
   "cell_type": "code",
   "execution_count": 52,
   "id": "f2edcb85",
   "metadata": {},
   "outputs": [],
   "source": [
    "from sklearn.linear_model import ElasticNet\n",
    "from sklearn.ensemble import RandomForestRegressor\n",
    "from sklearn.ensemble import GradientBoostingRegressor\n",
    "from sklearn.model_selection import GridSearchCV\n",
    "from sklearn.tree import DecisionTreeRegressor"
   ]
  },
  {
   "cell_type": "code",
   "execution_count": 12,
   "id": "81946be7",
   "metadata": {},
   "outputs": [],
   "source": [
    "X_train, y_train = data.drop(columns = ['Solar'],axis = 1), data.Solar"
   ]
  },
  {
   "cell_type": "code",
   "execution_count": 13,
   "id": "710ea735",
   "metadata": {},
   "outputs": [],
   "source": [
    "X_test, y_test = data.drop(columns = ['Solar'],axis = 1), data.Solar"
   ]
  },
  {
   "cell_type": "code",
   "execution_count": 24,
   "id": "0b232e73",
   "metadata": {},
   "outputs": [],
   "source": [
    "pipe_lasso = make_pipeline(\n",
    "    StandardScaler(),\n",
    "    Lasso()\n",
    ")"
   ]
  },
  {
   "cell_type": "code",
   "execution_count": 25,
   "id": "188725a9",
   "metadata": {},
   "outputs": [
    {
     "name": "stdout",
     "output_type": "stream",
     "text": [
      "MAE: 5.817833383100029\n",
      "MAPE: 0.10590801291450593\n",
      "R^2: 0.9964049640306691\n"
     ]
    }
   ],
   "source": [
    "pipe_lasso.fit(X_train, y_train)\n",
    "y_pred_lasso = pipe_lasso.predict(X_test)\n",
    "print('MAE:', mean_absolute_error(y_test, y_pred_lasso))\n",
    "print('MAPE:', mean_absolute_percentage_error(y_test, y_pred_lasso))\n",
    "print(f'R^2: {r2_score(y_test, y_pred_lasso)}')\n"
   ]
  },
  {
   "cell_type": "code",
   "execution_count": 26,
   "id": "ee9d5148",
   "metadata": {},
   "outputs": [],
   "source": [
    "pipe_linear = make_pipeline(\n",
    "    StandardScaler(),\n",
    "    LinearRegression()\n",
    ")"
   ]
  },
  {
   "cell_type": "code",
   "execution_count": 17,
   "id": "b2cf00ce",
   "metadata": {},
   "outputs": [],
   "source": [
    "#pipe=StandardScaler()"
   ]
  },
  {
   "cell_type": "code",
   "execution_count": 27,
   "id": "fbaaeaf1",
   "metadata": {},
   "outputs": [
    {
     "name": "stdout",
     "output_type": "stream",
     "text": [
      "MAE: 9.414691248821327e-14\n",
      "MAPE: 2.7982271752362826e-15\n",
      "R^2: 1.0\n",
      "slope: [ 22.48627813  -7.77140598  32.76475473 -13.74047082 -18.47792739\n",
      "  32.84715805  17.00739098  32.84690619  19.01269485 -15.15490121\n",
      "  16.5095174  -10.72489712  17.98102274  -4.48486929  16.17520327\n",
      "   0.13584234  16.68454823 -14.42721271]\n"
     ]
    }
   ],
   "source": [
    "pipe_linear.fit(X_train, y_train)\n",
    "y_pred_linear = pipe_linear.predict(X_test)\n",
    "print('MAE:', mean_absolute_error(y_test, y_pred_linear))\n",
    "print('MAPE:', mean_absolute_percentage_error(y_test, y_pred_linear))\n",
    "print(f'R^2: {r2_score(y_test, y_pred_linear)}')\n",
    "print('slope:', pipe_linear.named_steps['linearregression'].coef_)"
   ]
  },
  {
   "cell_type": "code",
   "execution_count": 32,
   "id": "dbb86a4d",
   "metadata": {},
   "outputs": [],
   "source": [
    "pipe_ridge = make_pipeline(\n",
    "    StandardScaler(),\n",
    "    Ridge(),\n",
    ")"
   ]
  },
  {
   "cell_type": "code",
   "execution_count": 33,
   "id": "8d7842b4",
   "metadata": {},
   "outputs": [
    {
     "name": "stdout",
     "output_type": "stream",
     "text": [
      "MAE: 7.353364539058872\n",
      "MAPE: 0.15656594269582078\n",
      "R^2: 0.9938607056306725\n"
     ]
    }
   ],
   "source": [
    "pipe_ridge.fit(X_train, y_train)\n",
    "y_pred_ridge = pipe_ridge.predict(X_test)\n",
    "print('MAE:', mean_absolute_error(y_test, y_pred_ridge))\n",
    "print('MAPE:', mean_absolute_percentage_error(y_test, y_pred_ridge))\n",
    "print(f'R^2: {r2_score(y_test, pipe_ridge.predict(X_test))}')"
   ]
  },
  {
   "cell_type": "code",
   "execution_count": 36,
   "id": "4517cb75",
   "metadata": {},
   "outputs": [],
   "source": [
    "pipe_elasticnet = make_pipeline(\n",
    "    StandardScaler(),\n",
    "    ElasticNet()\n",
    ")"
   ]
  },
  {
   "cell_type": "code",
   "execution_count": 37,
   "id": "3383f90a",
   "metadata": {},
   "outputs": [
    {
     "name": "stdout",
     "output_type": "stream",
     "text": [
      "MAE: 12.889613491821597\n",
      "MAPE: 0.2044736863066854\n",
      "R^2: 0.9812465894754424\n"
     ]
    }
   ],
   "source": [
    "pipe_elasticnet.fit(X_train, y_train)\n",
    "y_pred_elasticnet = pipe_elasticnet.predict(X_test)\n",
    "print('MAE:', mean_absolute_error(y_test, y_pred_elasticnet))\n",
    "print('MAPE:', mean_absolute_percentage_error(y_test, y_pred_elasticnet))\n",
    "print(f'R^2: {r2_score(y_test, pipe_elasticnet.predict(X_test))}')\n"
   ]
  },
  {
   "cell_type": "code",
   "execution_count": 83,
   "id": "955cfea8",
   "metadata": {},
   "outputs": [],
   "source": [
    "pipe_rf = make_pipeline(\n",
    "    StandardScaler(),\n",
    "    RandomForestRegressor()\n",
    ")"
   ]
  },
  {
   "cell_type": "code",
   "execution_count": 84,
   "id": "5bbf0483",
   "metadata": {},
   "outputs": [
    {
     "name": "stdout",
     "output_type": "stream",
     "text": [
      "Лучшее значение параметра n_estimators: {'randomforestregressor__n_estimators': 19}\n",
      "MAE на тестовых данных для лучшей модели: 60.77597074210526\n",
      "MAPE на тестовых данных для лучшей модели: 0.3446748257862859\n",
      "R^2: 0.9448019576696034\n"
     ]
    }
   ],
   "source": [
    "param_grid = {\n",
    "    'randomforestregressor__n_estimators': list(range(1, 21)) \n",
    "}\n",
    "\n",
    "grid_search = GridSearchCV(pipe_rf, param_grid, scoring='neg_mean_absolute_error')\n",
    "\n",
    "grid_search.fit(X_train, y_train)\n",
    "\n",
    "mape = mean_absolute_percentage_error(y_test, y_pred_rf)\n",
    "\n",
    "print(\"Лучшее значение параметра n_estimators:\", grid_search.best_params_)\n",
    "print(\"MAE на тестовых данных для лучшей модели:\", -grid_search.best_score_)\n",
    "print('MAPE на тестовых данных для лучшей модели:', mape)\n",
    "\n",
    "y_pred_rf = grid_search.predict(X_test)\n",
    "\n",
    "r2 = r2_score(y_test, y_pred_rf)\n",
    "print(f'R^2: {r2}')"
   ]
  },
  {
   "cell_type": "code",
   "execution_count": 76,
   "id": "c9b262f9",
   "metadata": {},
   "outputs": [],
   "source": [
    "pipe_dt = make_pipeline(\n",
    "    StandardScaler(),\n",
    "    DecisionTreeRegressor()\n",
    ")"
   ]
  },
  {
   "cell_type": "code",
   "execution_count": 77,
   "id": "8f47ac57",
   "metadata": {},
   "outputs": [],
   "source": [
    "pipe_gb = make_pipeline(\n",
    "    StandardScaler(),\n",
    "    GradientBoostingRegressor()\n",
    ")"
   ]
  },
  {
   "cell_type": "code",
   "execution_count": 78,
   "id": "0580d39b",
   "metadata": {},
   "outputs": [],
   "source": [
    "param_grid_dt = {\n",
    "    'decisiontreeregressor__max_depth': list(range(1, 21))\n",
    "}\n",
    "\n",
    "param_grid_gb = {\n",
    "    'gradientboostingregressor__max_depth': list(range(1, 21))\n",
    "}\n"
   ]
  },
  {
   "cell_type": "code",
   "execution_count": 79,
   "id": "f4a91651",
   "metadata": {},
   "outputs": [
    {
     "data": {
      "text/plain": [
       "GridSearchCV(estimator=Pipeline(steps=[('standardscaler', StandardScaler()),\n",
       "                                       ('gradientboostingregressor',\n",
       "                                        GradientBoostingRegressor())]),\n",
       "             param_grid={'gradientboostingregressor__max_depth': [1, 2, 3, 4, 5,\n",
       "                                                                  6, 7, 8, 9,\n",
       "                                                                  10, 11, 12,\n",
       "                                                                  13, 14, 15,\n",
       "                                                                  16, 17, 18,\n",
       "                                                                  19, 20]},\n",
       "             scoring='neg_mean_absolute_error')"
      ]
     },
     "execution_count": 79,
     "metadata": {},
     "output_type": "execute_result"
    }
   ],
   "source": [
    "grid_search_dt = GridSearchCV(pipe_dt, param_grid_dt, scoring='neg_mean_absolute_error')\n",
    "grid_search_gb = GridSearchCV(pipe_gb, param_grid_gb, scoring='neg_mean_absolute_error')\n",
    "\n",
    "grid_search_dt.fit(X_train, y_train)\n",
    "grid_search_gb.fit(X_train, y_train)\n"
   ]
  },
  {
   "cell_type": "code",
   "execution_count": 80,
   "id": "978c426f",
   "metadata": {},
   "outputs": [],
   "source": [
    "y_pred_dt = grid_search_dt.predict(X_test)\n",
    "y_pred_gb = grid_search_gb.predict(X_test)"
   ]
  },
  {
   "cell_type": "code",
   "execution_count": 82,
   "id": "af5a7423",
   "metadata": {},
   "outputs": [
    {
     "name": "stdout",
     "output_type": "stream",
     "text": [
      "Лучшее значение параметра max_depth для DecisionTreeRegressor: {'decisiontreeregressor__max_depth': 6}\n",
      "MAE на тестовых данных для DecisionTreeRegressor: 0.0\n",
      "MAPE на тестовых данных для DecisionTreeRegressor: 0.0\n",
      "R^2 на тестовых данных для DecisionTreeRegressor: 1.0\n",
      "\n",
      "Лучшее значение параметра max_depth для GradientBoostingRegressor: {'gradientboostingregressor__max_depth': 1}\n",
      "MAE на тестовых данных для GradientBoostingRegressor: 0.3243736045053538\n",
      "MAPE на тестовых данных для GradientBoostingRegressor: 0.01569686485267889\n",
      "R^2 на тестовых данных для GradientBoostingRegressor: 0.9999814370306468\n"
     ]
    }
   ],
   "source": [
    "mae_dt = mean_absolute_error(y_test, y_pred_dt)\n",
    "mae_gb = mean_absolute_error(y_test, y_pred_gb)\n",
    "\n",
    "mape_dt = mean_absolute_percentage_error(y_test, y_pred_dt)\n",
    "mape_gb = mean_absolute_percentage_error(y_test, y_pred_gb)\n",
    "\n",
    "r2_dt = r2_score(y_test, y_pred_dt)\n",
    "r2_gb = r2_score(y_test, y_pred_gb)\n",
    "\n",
    "print(\"Лучшее значение параметра max_depth для DecisionTreeRegressor:\", grid_search_dt.best_params_)\n",
    "print(\"MAE на тестовых данных для DecisionTreeRegressor:\", mae_dt)\n",
    "print(\"MAPE на тестовых данных для DecisionTreeRegressor:\", mape_dt)\n",
    "print(\"R^2 на тестовых данных для DecisionTreeRegressor:\", r2_dt)\n",
    "print()\n",
    "print(\"Лучшее значение параметра max_depth для GradientBoostingRegressor:\", grid_search_gb.best_params_)\n",
    "print(\"MAE на тестовых данных для GradientBoostingRegressor:\", mae_gb)\n",
    "print(\"MAPE на тестовых данных для GradientBoostingRegressor:\", mape_gb)\n",
    "print(\"R^2 на тестовых данных для GradientBoostingRegressor:\", r2_gb)"
   ]
  },
  {
   "cell_type": "markdown",
   "id": "8ad543a0",
   "metadata": {},
   "source": [
    "### Вывод"
   ]
  },
  {
   "cell_type": "markdown",
   "id": "fd80830e",
   "metadata": {},
   "source": [
    "Исходя из полученных метрик две лучшие модели - это линейная регрессия и Лес Деревьев с глубиной 6. Впрочем, судя по показателям Деревья, скорее всего, переобучились. Это нужно будет проверить отдельно. \n",
    "Теперь модели можно сохранить и загрузить при  необходимости. "
   ]
  },
  {
   "cell_type": "code",
   "execution_count": 93,
   "id": "faad9290",
   "metadata": {},
   "outputs": [
    {
     "data": {
      "text/plain": [
       "['pipe_dt_model.pkl']"
      ]
     },
     "execution_count": 93,
     "metadata": {},
     "output_type": "execute_result"
    }
   ],
   "source": [
    "import joblib\n",
    "\n",
    "joblib.dump(pipe_linear, 'pipe_linear_model.pkl')\n",
    "joblib.dump(pipe_dt, 'pipe_dt_model.pkl')"
   ]
  },
  {
   "cell_type": "code",
   "execution_count": 94,
   "id": "84c0c2a9",
   "metadata": {},
   "outputs": [],
   "source": [
    "pipe_linear_loaded = joblib.load('pipe_linear_model.pkl')\n",
    "pipe_dt_loaded = joblib.load('pipe_dt_model.pkl')"
   ]
  },
  {
   "cell_type": "code",
   "execution_count": null,
   "id": "d177c10b",
   "metadata": {},
   "outputs": [],
   "source": []
  }
 ],
 "metadata": {
  "kernelspec": {
   "display_name": "Python 3 (ipykernel)",
   "language": "python",
   "name": "python3"
  },
  "language_info": {
   "codemirror_mode": {
    "name": "ipython",
    "version": 3
   },
   "file_extension": ".py",
   "mimetype": "text/x-python",
   "name": "python",
   "nbconvert_exporter": "python",
   "pygments_lexer": "ipython3",
   "version": "3.9.13"
  }
 },
 "nbformat": 4,
 "nbformat_minor": 5
}
